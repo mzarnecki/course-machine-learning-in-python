{
 "cells": [
  {
   "metadata": {},
   "cell_type": "markdown",
   "source": [
    "# PySpark performance data manipulation example\n",
    "\n",
    "This notebook presents how using of py spark parallel reads and in-memory computation can speed up data manipulation process."
   ],
   "id": "d8973b013f321a5a"
  },
  {
   "metadata": {},
   "cell_type": "markdown",
   "source": [
    "### Used optimizations\n",
    "\n",
    "1. Parallel Reading: The numPartitions parameter ensures that data is read in parallel, leveraging the cluster's parallel processing capabilities.\n",
    "\n",
    "2. Transformations: Added an upper transformation and a conditional flag column (recent_entry_flag) to demonstrate data manipulation. All computation is done in memory.\n",
    "\n",
    "3. Batch Writing: The batchsize option ensures efficient data writing to PostgreSQL by writing in chunks, reducing transaction overhead.\n",
    "\n",
    "4. Optimized Configuration: Set the number of shuffle partitions and memory configuration for performance tuning."
   ],
   "id": "7c9545d77fd1f96e"
  },
  {
   "metadata": {},
   "cell_type": "markdown",
   "source": "### 1. Connect to database",
   "id": "5a9738c3c197a296"
  },
  {
   "cell_type": "code",
   "id": "initial_id",
   "metadata": {
    "collapsed": true,
    "ExecuteTime": {
     "end_time": "2025-04-29T04:42:44.197266Z",
     "start_time": "2025-04-29T04:42:43.933791Z"
    }
   },
   "source": [
    "import findspark\n",
    "findspark.init()\n",
    "\n",
    "from pyspark.sql import SparkSession\n",
    "from pyspark.sql.functions import col, upper, when, year, lit\n",
    "\n",
    "# Initialize the Spark session\n",
    "spark = SparkSession.builder \\\n",
    "    .appName(\"PostgreSQL Connection with PySpark\") \\\n",
    "    .config(\"spark.jars\", \"postgresql-42.7.4.jar\") \\\n",
    "    .config(\"spark.sql.shuffle.partitions\", \"8\") \\\n",
    "    .config(\"spark.executor.memory\", \"2g\") \\\n",
    "    .getOrCreate()\n",
    "\n",
    "# JDBC properties\n",
    "url = \"jdbc:postgresql://127.0.0.1:5432/moneyhouse_germany_dev\"\n",
    "properties = {\n",
    "    \"user\": \"mhde\",\n",
    "    \"password\": \"\",\n",
    "    \"driver\": \"org.postgresql.Driver\"\n",
    "}\n",
    "\n",
    "table_name = \"person\"\n",
    "\n",
    "# Read the table with partitioning for parallel reads\n",
    "num_partitions = 4  # Adjust based on the cluster resources\n",
    "df = spark.read.jdbc(\n",
    "    url=url,\n",
    "    table=table_name,\n",
    "    properties=properties,\n",
    "    numPartitions=num_partitions\n",
    ")\n",
    "df.show(5)"
   ],
   "outputs": [
    {
     "name": "stdout",
     "output_type": "stream",
     "text": [
      "+--------------------+---------+-----------+----------------+------+----------+--------+----------+-------------------+-------------------+-------+------+--------------+-------+-------------+--------------+-------------+--------------------+----------------------+-------------+------------------+-----+-----+---+-------+-----------------------------+---------------------+---------------+----------------------+-----------+--------------------+------------------+--------------+---------------------------+---------------------------+---------+----------+------------------+----+---------------+\n",
      "|                  id|lock_flag|family_name|scientific_title|gender|birth_date|deceased|occupation|         created_at|         updated_at|   city|status|   hitpage_uri|   name|   first_name|disabled_tiles|deceased_date|         profile_uri|creditsafe_safe_number|creditsafe_id|former_occupations|email|phone|fax|website|network_graph_data_created_at|normalized_first_name|normalized_name|normalized_family_name|     source| distinct_connection|research_merged_at|unique_content|unique_content_generated_at|unique_content_tree_version|seo_score|crawled_at|hitpage_crawled_at| age|retirement_flag|\n",
      "+--------------------+---------+-----------+----------------+------+----------+--------+----------+-------------------+-------------------+-------+------+--------------+-------+-------------+--------------+-------------+--------------------+----------------------+-------------+------------------+-----+-----+---+-------+-----------------------------+---------------------+---------------+----------------------+-----------+--------------------+------------------+--------------+---------------------------+---------------------------+---------+----------+------------------+----+---------------+\n",
      "|91886f5e-b7ad-491...|        0|       NULL|            NULL|     M|      NULL|    NULL|      NULL|2021-02-04 12:14:53|2024-01-19 04:26:24|       | false|  Axel-Steffen|Steffen|         Axel|          NULL|         NULL|Axel-Steffen-o_tU...|                  NULL|         NULL|              NULL|   []|   []| []|     []|                         NULL|                 Axel|        Steffen|                  NULL|publication|                NULL|              NULL|            {}|        0001-01-01 00:00:00|                          0|        0|      NULL|              NULL|NULL|           NULL|\n",
      "|fca15e75-295f-44b...|        7|       NULL|            NULL|     M|      NULL|    NULL|      NULL|2021-02-04 12:38:58|2024-01-19 04:26:24|Hamburg|  true|     Udo-Wiese|  Wiese|          Udo|          NULL|         NULL|Udo-Wiese-zsJlaHP...|                  NULL|         NULL|              NULL|   []|   []| []|     []|                         NULL|                  Udo|          Wiese|                  NULL|publication|                NULL|              NULL|            {}|        0001-01-01 00:00:00|                          0|      100|      NULL|              NULL|NULL|           NULL|\n",
      "|c09217b0-d948-11e...|        0|       NULL|            NULL|     M|      NULL|    NULL|      NULL|               NULL|2024-01-19 04:26:24|München| false|Herbert-Kuliga| Kuliga|      Herbert|          NULL|         NULL|Herbert-Kuliga-8v...|                  NULL|         NULL|              NULL|   {}|   {}| {}|     {}|                         NULL|              Herbert|         Kuliga|                  NULL|       NULL|c09217b0-d948-11e...|              NULL|            {}|        0001-01-01 00:00:00|                          0|       30|      NULL|              NULL|NULL|           NULL|\n",
      "|b940f152-ca0a-45c...|        0|       NULL|            NULL|     M|      NULL|    NULL|      NULL|2021-02-04 12:43:09|2024-01-19 04:26:24|       |  true|     Max-Simon|  Simon|          Max|          NULL|         NULL|Max-Simon-iyPKT5C...|                  NULL|         NULL|              NULL|   []|   []| []|     []|                         NULL|                  Max|          Simon|                  NULL|publication|                NULL|              NULL|            {}|        0001-01-01 00:00:00|                          0|       90|      NULL|              NULL|NULL|           NULL|\n",
      "|5461cdb0-0e64-47c...|        0|       NULL|            NULL|     M|      NULL|    NULL|      NULL|2021-02-04 12:15:46|2024-01-19 04:26:24|       |  true| David-Butcher|Butcher|David Anthony|          NULL|         NULL|David-Anthony-But...|                  NULL|         NULL|              NULL|   []|   []| []|     []|                         NULL|        David Anthony|        Butcher|                  NULL|publication|                NULL|              NULL|            {}|        0001-01-01 00:00:00|                          0|       90|      NULL|              NULL|NULL|           NULL|\n",
      "+--------------------+---------+-----------+----------------+------+----------+--------+----------+-------------------+-------------------+-------+------+--------------+-------+-------------+--------------+-------------+--------------------+----------------------+-------------+------------------+-----+-----+---+-------+-----------------------------+---------------------+---------------+----------------------+-----------+--------------------+------------------+--------------+---------------------------+---------------------------+---------+----------+------------------+----+---------------+\n",
      "only showing top 5 rows\n",
      "\n"
     ]
    }
   ],
   "execution_count": 7
  },
  {
   "metadata": {},
   "cell_type": "markdown",
   "source": "### 2. Do some data manipulation",
   "id": "fc7b076d53f42d57"
  },
  {
   "metadata": {
    "ExecuteTime": {
     "end_time": "2025-04-29T04:40:48.337162Z",
     "start_time": "2025-04-29T04:40:47.783733Z"
    }
   },
   "cell_type": "code",
   "source": [
    "# Filter and transform the data - real-life example: identifying potential retirees\n",
    "filtered_df = df.filter((col(\"birth_date\").isNotNull()) & (col(\"deceased\").isNull()))\n",
    "transformed_df = filtered_df.withColumn(\n",
    "    \"age\",\n",
    "    (lit(2024) - year(col(\"birth_date\")))  # Replace 2024 with current year dynamically in production\n",
    ")\n",
    "transformed_df.show(5)"
   ],
   "id": "1d59ca009050fb5",
   "outputs": [
    {
     "name": "stdout",
     "output_type": "stream",
     "text": [
      "+--------------------+---------+-----------+----------------+------+----------+--------+----------+-------------------+-------------------+------------------+------+--------------------+-------------+--------------------+--------------+-------------+--------------------+----------------------+-------------+------------------+-----+-----+---+-------+-----------------------------+---------------------+---------------+----------------------+--------------------+--------------------+-------------------+--------------------+---------------------------+---------------------------+---------+----------+------------------+---+---------------+\n",
      "|                  id|lock_flag|family_name|scientific_title|gender|birth_date|deceased|occupation|         created_at|         updated_at|              city|status|         hitpage_uri|         name|          first_name|disabled_tiles|deceased_date|         profile_uri|creditsafe_safe_number|creditsafe_id|former_occupations|email|phone|fax|website|network_graph_data_created_at|normalized_first_name|normalized_name|normalized_family_name|              source| distinct_connection| research_merged_at|      unique_content|unique_content_generated_at|unique_content_tree_version|seo_score|crawled_at|hitpage_crawled_at|age|retirement_flag|\n",
      "+--------------------+---------+-----------+----------------+------+----------+--------+----------+-------------------+-------------------+------------------+------+--------------------+-------------+--------------------+--------------+-------------+--------------------+----------------------+-------------+------------------+-----+-----+---+-------+-----------------------------+---------------------+---------------+----------------------+--------------------+--------------------+-------------------+--------------------+---------------------------+---------------------------+---------+----------+------------------+---+---------------+\n",
      "|00130970-d931-11e...|        0|       NULL|             rer|     M|1964-06-20|    NULL|      NULL|               NULL|2024-01-19 04:27:36|           Hamburg|  true|  Jens-Michael-Arndt|        Arndt|        Jens-Michael|          NULL|         NULL|Jens-Michael-Arnd...|                  NULL|         NULL|              NULL|   {}|   {}| {}|     {}|                         NULL|         Jens Michael|          Arndt|                  NULL|                NULL|00130970-d931-11e...|               NULL|                  {}|        0001-01-01 00:00:00|                          0|      150|      NULL|              NULL| 60|          false|\n",
      "|004cd118-92de-4c2...|        0|       NULL|            NULL|     F|1968-01-18|    NULL|      NULL|2024-01-25 19:36:25|2024-01-25 19:36:25|               Hof|  true|      Martina-Seidel|       Seidel|    Martina Brigitte|          NULL|         NULL|Martina-Brigitte-...|                  NULL|         NULL|              NULL|   []|   []| []|     []|          2023-12-30 11:00:52|     Martina Brigitte|         Seidel|                  NULL|chronological_exc...|                NULL|2023-11-12 19:59:15|{\"errors\": null, ...|        0001-01-01 00:00:00|                          0|       80|      NULL|              NULL| 56|          false|\n",
      "|00000000-0000-000...|        0|       NULL|            NULL|  NULL|1968-01-23|    NULL|      NULL|               NULL|               NULL|                  | false|john-doe-first-fa...| Person first|First person firs...|          NULL|         NULL|john-doe-first-fa...|                  NULL|         NULL|              NULL|   []|   []| []|     []|          0001-01-01 00:00:00|                 NULL|           NULL|                  NULL|                NULL|                NULL|               NULL|                  {}|        0001-01-01 00:00:00|                          0|        0|      NULL|              NULL| 56|           NULL|\n",
      "|00000000-0000-000...|        0|       NULL|            NULL|  NULL|1988-06-23|    NULL|      NULL|               NULL|               NULL|                  | false|john-doe-second-f...|Person second|Second person fir...|          NULL|         NULL|john-doe-second-f...|                  NULL|         NULL|              NULL|   []|   []| []|     []|          0001-01-01 00:00:00|                 NULL|           NULL|                  NULL|                NULL|                NULL|               NULL|                  {}|        0001-01-01 00:00:00|                          0|        0|      NULL|              NULL| 36|           NULL|\n",
      "|0075572b-7a97-41a...|        0|       NULL|            NULL|     M|2001-12-08|    NULL|      NULL|2024-01-26 06:44:12|2024-01-26 06:44:12|Uttendorf Pzg. Pzg| false|     Eddy-Koestinger|    Köstinger|                Eddy|          NULL|         NULL|Eddy-Koestinger-M...|                  NULL|         NULL|              NULL|   []|   []| []|     []|          2023-12-19 00:59:49|                 Eddy|      Köstinger|                  NULL|         publication|                NULL|2023-09-27 01:27:10|                  []|        0001-01-01 00:00:00|                          0|       20|      NULL|              NULL| 23|          false|\n",
      "+--------------------+---------+-----------+----------------+------+----------+--------+----------+-------------------+-------------------+------------------+------+--------------------+-------------+--------------------+--------------+-------------+--------------------+----------------------+-------------+------------------+-----+-----+---+-------+-----------------------------+---------------------+---------------+----------------------+--------------------+--------------------+-------------------+--------------------+---------------------------+---------------------------+---------+----------+------------------+---+---------------+\n",
      "only showing top 5 rows\n",
      "\n"
     ]
    }
   ],
   "execution_count": 2
  },
  {
   "metadata": {
    "ExecuteTime": {
     "end_time": "2025-04-29T04:45:22.810706Z",
     "start_time": "2025-04-29T04:45:22.709134Z"
    }
   },
   "cell_type": "code",
   "source": "print(\"How many rows were efficiently processed in memeory using PySpark?\\n{0}\".format(df.count()))",
   "id": "911a3c70b18ec1d3",
   "outputs": [
    {
     "name": "stdout",
     "output_type": "stream",
     "text": [
      "How many rows were efficiently processed in memeory using PySpark?\n",
      "24564\n"
     ]
    }
   ],
   "execution_count": 13
  },
  {
   "metadata": {
    "ExecuteTime": {
     "end_time": "2025-04-29T04:40:50.388618Z",
     "start_time": "2025-04-29T04:40:49.698197Z"
    }
   },
   "cell_type": "code",
   "source": [
    "transformed_df = transformed_df.withColumn(\n",
    "    \"retirement_flag\",\n",
    "    when(col(\"age\") >= 65, True).otherwise(False)\n",
    ")\n",
    "\n",
    "# Show some details and transformations\n",
    "print(\"Data description:\")\n",
    "transformed_df.show()\n",
    "\n",
    "# Show first few rows\n",
    "transformed_df.select(\"id\", \"first_name\", \"family_name\", \"age\", \"retirement_flag\").show(5)"
   ],
   "id": "2c7683877c4ef693",
   "outputs": [
    {
     "name": "stdout",
     "output_type": "stream",
     "text": [
      "Data description:\n",
      "+--------------------+---------+-----------+----------------+------+----------+--------+----------+-------------------+-------------------+------------------+------+--------------------+-------------+--------------------+--------------+-------------+--------------------+----------------------+-------------+------------------+-----+-----+---+-------+-----------------------------+---------------------+---------------+----------------------+--------------------+--------------------+-------------------+--------------------+---------------------------+---------------------------+---------+----------+------------------+---+---------------+\n",
      "|                  id|lock_flag|family_name|scientific_title|gender|birth_date|deceased|occupation|         created_at|         updated_at|              city|status|         hitpage_uri|         name|          first_name|disabled_tiles|deceased_date|         profile_uri|creditsafe_safe_number|creditsafe_id|former_occupations|email|phone|fax|website|network_graph_data_created_at|normalized_first_name|normalized_name|normalized_family_name|              source| distinct_connection| research_merged_at|      unique_content|unique_content_generated_at|unique_content_tree_version|seo_score|crawled_at|hitpage_crawled_at|age|retirement_flag|\n",
      "+--------------------+---------+-----------+----------------+------+----------+--------+----------+-------------------+-------------------+------------------+------+--------------------+-------------+--------------------+--------------+-------------+--------------------+----------------------+-------------+------------------+-----+-----+---+-------+-----------------------------+---------------------+---------------+----------------------+--------------------+--------------------+-------------------+--------------------+---------------------------+---------------------------+---------+----------+------------------+---+---------------+\n",
      "|00130970-d931-11e...|        0|       NULL|             rer|     M|1964-06-20|    NULL|      NULL|               NULL|2024-01-19 04:27:36|           Hamburg|  true|  Jens-Michael-Arndt|        Arndt|        Jens-Michael|          NULL|         NULL|Jens-Michael-Arnd...|                  NULL|         NULL|              NULL|   {}|   {}| {}|     {}|                         NULL|         Jens Michael|          Arndt|                  NULL|                NULL|00130970-d931-11e...|               NULL|                  {}|        0001-01-01 00:00:00|                          0|      150|      NULL|              NULL| 60|          false|\n",
      "|004cd118-92de-4c2...|        0|       NULL|            NULL|     F|1968-01-18|    NULL|      NULL|2024-01-25 19:36:25|2024-01-25 19:36:25|               Hof|  true|      Martina-Seidel|       Seidel|    Martina Brigitte|          NULL|         NULL|Martina-Brigitte-...|                  NULL|         NULL|              NULL|   []|   []| []|     []|          2023-12-30 11:00:52|     Martina Brigitte|         Seidel|                  NULL|chronological_exc...|                NULL|2023-11-12 19:59:15|{\"errors\": null, ...|        0001-01-01 00:00:00|                          0|       80|      NULL|              NULL| 56|          false|\n",
      "|00000000-0000-000...|        0|       NULL|            NULL|  NULL|1968-01-23|    NULL|      NULL|               NULL|               NULL|                  | false|john-doe-first-fa...| Person first|First person firs...|          NULL|         NULL|john-doe-first-fa...|                  NULL|         NULL|              NULL|   []|   []| []|     []|          0001-01-01 00:00:00|                 NULL|           NULL|                  NULL|                NULL|                NULL|               NULL|                  {}|        0001-01-01 00:00:00|                          0|        0|      NULL|              NULL| 56|          false|\n",
      "|00000000-0000-000...|        0|       NULL|            NULL|  NULL|1988-06-23|    NULL|      NULL|               NULL|               NULL|                  | false|john-doe-second-f...|Person second|Second person fir...|          NULL|         NULL|john-doe-second-f...|                  NULL|         NULL|              NULL|   []|   []| []|     []|          0001-01-01 00:00:00|                 NULL|           NULL|                  NULL|                NULL|                NULL|               NULL|                  {}|        0001-01-01 00:00:00|                          0|        0|      NULL|              NULL| 36|          false|\n",
      "|0075572b-7a97-41a...|        0|       NULL|            NULL|     M|2001-12-08|    NULL|      NULL|2024-01-26 06:44:12|2024-01-26 06:44:12|Uttendorf Pzg. Pzg| false|     Eddy-Koestinger|    Köstinger|                Eddy|          NULL|         NULL|Eddy-Koestinger-M...|                  NULL|         NULL|              NULL|   []|   []| []|     []|          2023-12-19 00:59:49|                 Eddy|      Köstinger|                  NULL|         publication|                NULL|2023-09-27 01:27:10|                  []|        0001-01-01 00:00:00|                          0|       20|      NULL|              NULL| 23|          false|\n",
      "|00657ef0-ba6e-11e...|        0|       NULL|            NULL|     M|1952-12-16|    NULL|      NULL|2024-01-25 21:59:25|2024-01-25 21:59:25|           Hamburg|  true|       Reinhard-Titz|         Titz|    Reinhard Hermann|          NULL|         NULL|Reinhard-Hermann-...|                  NULL|         NULL|              NULL|   []|   []| []|     []|          2024-01-03 11:17:37|     Reinhard Hermann|           Titz|                  NULL|  person_publication|1c39f130-d3dd-11e...|2023-11-16 03:38:01|{\"errors\": null, ...|        0001-01-01 00:00:00|                          0|      140|      NULL|              NULL| 72|           true|\n",
      "|0087b9e0-d955-11e...|        0|       NULL|            NULL|     M|1961-04-23|    NULL|      NULL|               NULL|2024-01-19 04:27:20|      Marktredwitz| false|        Dieter-Berek|        Berek|              Dieter|          NULL|         NULL|Dieter-Berek-MuSC...|                  NULL|         NULL|              NULL|   {}|   {}| {}|     {}|                         NULL|               Dieter|          Berek|                  NULL|                NULL|0087b9e0-d955-11e...|               NULL|                  {}|        0001-01-01 00:00:00|                          0|       20|      NULL|              NULL| 63|          false|\n",
      "|008cee5f-4a82-4bd...|        0|       NULL|            NULL|     M|1959-04-24|    NULL|      NULL|2024-01-25 18:29:10|2024-01-25 18:29:10|        Königsborn|  true|    Michael-Diedrich|     Diedrich|             Michael|          NULL|         NULL|Michael-Diedrich-...|                  NULL|         NULL|              NULL|   []|   []| []|     []|          2023-12-08 18:09:29|              Michael|       Diedrich|                  NULL|chronological_exc...|                NULL|2023-11-21 20:59:57|                  []|        0001-01-01 00:00:00|                          0|      110|      NULL|              NULL| 65|           true|\n",
      "|0000e521-397e-11e...|        0|       Merz|        Kauffrau|     F|1941-10-16|    NULL|      NULL|2024-01-25 20:26:20|2024-01-25 20:26:20|                  |  true|        Antje-Boehme|        Böhme|               Antje|          NULL|         NULL|Antje-Boehme-MmPe...|                  NULL|         NULL|              NULL|   []|   []| []|     []|          2023-12-30 10:50:17|                Antje|          Böhme|                  Merz|  person_publication|                NULL|2023-09-22 09:39:04|{\"errors\": null, ...|        0001-01-01 00:00:00|                          0|      150|      NULL|              NULL| 83|           true|\n",
      "|0067e361-d935-11e...|        0|       NULL|            NULL|     F|1962-01-05|    NULL|      NULL|2024-01-26 02:16:55|2024-01-26 02:16:55|       Nottensdorf|  true|     Claudia-Muesing|       Müsing|             Claudia|          NULL|         NULL|Claudia-Muesing-M...|                  NULL|         NULL|              NULL|   []|   []| []|     []|          2024-01-02 23:11:26|              Claudia|         Müsing|                  NULL|  person_publication|                NULL|2023-11-21 06:46:17|{\"errors\": null, ...|        0001-01-01 00:00:00|                          0|      110|      NULL|              NULL| 62|          false|\n",
      "|00baa65b-318e-440...|        0|       NULL|            NULL|     M|1964-06-27|    NULL|      NULL|2024-01-25 23:38:58|2024-01-25 23:38:58|  Grünwald Pullach|  true|       Ernst-Thriene|      Thriene|   Ernst Johann jun.|          NULL|         NULL|Ernst-Johann-jun-...|                  NULL|         NULL|              NULL|   []|   []| []|     []|          2023-12-17 17:18:48|    Ernst Johann jun.|        Thriene|                  NULL|chronological_exc...|                NULL|2023-11-03 21:50:26|{\"errors\": null, ...|        0001-01-01 00:00:00|                          0|       70|      NULL|              NULL| 60|          false|\n",
      "|0068c990-d93c-11e...|        0|       NULL|            NULL|     M|1981-12-11|    NULL|      NULL|2024-01-26 04:14:14|2024-01-26 04:14:14|          Wolnzach|  true|     Fabian-Roehrich|      Röhrich|              Fabian|          NULL|         NULL|Fabian-Roehrich-M...|                  NULL|         NULL|              NULL|   []|   []| []|     []|          2024-01-03 11:44:25|               Fabian|        Röhrich|                  NULL|  person_publication|                NULL|2023-11-13 05:47:18|{\"errors\": null, ...|        0001-01-01 00:00:00|                          0|      150|      NULL|              NULL| 43|          false|\n",
      "|0074a0e1-d972-11e...|        0|       NULL|             Dr.|     M|1961-05-25|    NULL|      NULL|2024-01-25 21:59:10|2024-01-25 21:59:10|           Koblenz|  true|      Andreas-Kiefer|       Kiefer|       Andreas Georg|          NULL|         NULL|Andreas-Georg-Kie...|                  NULL|         NULL|              NULL|   []|   []| []|     []|          2024-01-03 00:39:26|        Andreas Georg|         Kiefer|                  NULL|  person_publication|5f93e4a0-036b-11e...|2023-10-29 07:35:16|{\"errors\": null, ...|        0001-01-01 00:00:00|                          0|      130|      NULL|              NULL| 63|          false|\n",
      "|01ae08d9-22e8-42a...|        1|       NULL|            NULL|  NULL|1945-05-05|    NULL|      NULL|2024-01-26 01:27:25|2024-01-26 01:27:25|          Eisenach| false|        Dieter-AUBEL|        AUBEL|              Dieter|          NULL|         NULL|Dieter-AUBEL-M80z...|                  NULL|         NULL|              NULL|   []|   []| []|     []|          2023-12-19 03:56:07|               Dieter|          AUBEL|                  NULL|parsed_shareholde...|8ab2b170-d3dc-11e...|2023-10-03 17:33:42|                  []|        2023-07-03 14:19:03|                          0|        0|      NULL|              NULL| 79|           true|\n",
      "|0003fb30-d966-11e...|        0|       NULL|            NULL|     M|1963-11-16|    NULL|      NULL|2024-01-25 19:32:29|2024-01-25 19:32:29|         Kirchhain|  true|    Bernd-Rettemeier|   Rettemeier|               Bernd|          NULL|         NULL|Bernd-Rettemeier-...|                  NULL|         NULL|              NULL|   []|   []| []|     []|          2024-01-02 19:57:50|                Bernd|     Rettemeier|                  NULL|  person_publication|                NULL|2023-11-17 09:16:15|{\"errors\": null, ...|        0001-01-01 00:00:00|                          0|      150|      NULL|              NULL| 61|          false|\n",
      "|02f3988c-0d53-4bd...|        4|       NULL|            NULL|     M|1976-06-08|    NULL|      NULL|2024-01-26 05:07:05|2024-01-26 05:07:05|          Modautal| false|       Ingo-Schnaars|     Schnaars|                Ingo|          NULL|         NULL|Ingo-Schnaars-MJC...|                  NULL|         NULL|              NULL|   []|   []| []|     []|          2024-01-16 11:37:54|                 Ingo|       Schnaars|                  NULL|chronological_exc...|                NULL|2023-07-22 17:22:05|                  []|        0001-01-01 00:00:00|                          0|       20|      NULL|              NULL| 48|          false|\n",
      "|007f3fa0-8db0-11e...|        0|       NULL|            NULL|     M|1983-06-17|    NULL|      NULL|2024-01-25 18:24:32|2024-01-25 18:24:32|            Berlin|  true|     Morris-Kaufhold|     Kaufhold|        Morris David|          NULL|         NULL|Morris-David-Kauf...|                  NULL|         NULL|              NULL|   []|   []| []|     []|          2024-01-03 10:53:21|         Morris David|       Kaufhold|                  NULL|  person_publication|                NULL|2023-11-07 01:47:39|{\"errors\": null, ...|        0001-01-01 00:00:00|                          0|      150|      NULL|              NULL| 41|          false|\n",
      "|01a8fd85-6db3-403...|        0|       NULL|            NULL|     M|1961-01-12|    NULL|      NULL|2024-01-25 22:38:25|2024-01-25 22:38:25|       Saarbrücken|  true|      Frank-Eckstein|     Eckstein|               Frank|          NULL|         NULL|Frank-Eckstein-M8...|                  NULL|         NULL|              NULL|   []|   []| []|     []|          2023-12-03 10:39:26|                Frank|       Eckstein|                  NULL|chronological_exc...|                NULL|2023-11-21 01:45:14|                  []|        0001-01-01 00:00:00|                          0|      110|      NULL|              NULL| 63|          false|\n",
      "|001f152d-6903-4a8...|        0|       NULL|            NULL|     M|1945-06-18|    NULL|      NULL|2024-01-26 05:10:04|2024-01-26 05:10:04|            Lommel|  true|     Joseph-Platvoet|     Platvoet|Joseph Gerardus B...|          NULL|         NULL|Joseph-Gerardus-B...|                  NULL|         NULL|              NULL|   []|   []| []|     []|          2023-12-30 18:39:13| Joseph Gerardus B...|       Platvoet|                  NULL|chronological_exc...|                NULL|2023-10-30 15:47:17|{\"errors\": null, ...|        0001-01-01 00:00:00|                          0|       90|      NULL|              NULL| 79|           true|\n",
      "|00225ed1-d949-11e...|        0|       NULL|            NULL|  NULL|1957-05-22|    NULL|      NULL|2024-01-26 07:22:14|2024-01-26 07:22:14|            Tholey| false|  Ruedeger-Schneider|    Schneider|             Rüdeger|          NULL|         NULL|Ruedeger-Schneide...|                  NULL|         NULL|              NULL|   []|   []| []|     []|          2024-01-03 11:18:48|              Rüdeger|      Schneider|                  NULL|  person_publication|                NULL|2023-11-09 17:34:32|{\"errors\": null, ...|        0001-01-01 00:00:00|                          0|       30|      NULL|              NULL| 67|           true|\n",
      "+--------------------+---------+-----------+----------------+------+----------+--------+----------+-------------------+-------------------+------------------+------+--------------------+-------------+--------------------+--------------+-------------+--------------------+----------------------+-------------+------------------+-----+-----+---+-------+-----------------------------+---------------------+---------------+----------------------+--------------------+--------------------+-------------------+--------------------+---------------------------+---------------------------+---------+----------+------------------+---+---------------+\n",
      "only showing top 20 rows\n",
      "\n",
      "+--------------------+--------------------+-----------+---+---------------+\n",
      "|                  id|          first_name|family_name|age|retirement_flag|\n",
      "+--------------------+--------------------+-----------+---+---------------+\n",
      "|00130970-d931-11e...|        Jens-Michael|       NULL| 60|          false|\n",
      "|004cd118-92de-4c2...|    Martina Brigitte|       NULL| 56|          false|\n",
      "|00000000-0000-000...|First person firs...|       NULL| 56|          false|\n",
      "|00000000-0000-000...|Second person fir...|       NULL| 36|          false|\n",
      "|0075572b-7a97-41a...|                Eddy|       NULL| 23|          false|\n",
      "+--------------------+--------------------+-----------+---+---------------+\n",
      "only showing top 5 rows\n",
      "\n"
     ]
    }
   ],
   "execution_count": 3
  },
  {
   "metadata": {},
   "cell_type": "markdown",
   "source": "### 3. Save data using batch inserts",
   "id": "f2b27192a167f7c8"
  },
  {
   "metadata": {
    "ExecuteTime": {
     "end_time": "2025-04-29T04:41:31.186765Z",
     "start_time": "2025-04-29T04:41:29.410848Z"
    }
   },
   "cell_type": "code",
   "source": [
    "# Identify modified records based on a condition (e.g., age or retirement_flag changes)\n",
    "existing_df = df.select(\"id\")\n",
    "updates_df = transformed_df.join(existing_df, on=\"id\", how=\"inner\")\n",
    "\n",
    "# Write modified records to a temporary table\n",
    "(transformed_df.write.mode(\"append\")\n",
    " .option(\"batchsize\", 1000)  # Use batch size for efficient writing\n",
    " .format(\"jdbc\")\n",
    " .option(\"driver\", \"org.postgresql.Driver\")\n",
    " .option(\"url\", url)\n",
    " .option(\"dbtable\", \"person_updates_temp\")  # Write to a temporary table\n",
    " .option(\"user\", \"mhde\")\n",
    " .save())\n",
    "\n",
    "# Stop the Spark session\n",
    "spark.stop()"
   ],
   "id": "db0ff140a5f6f492",
   "outputs": [
    {
     "name": "stderr",
     "output_type": "stream",
     "text": [
      "                                                                                \r"
     ]
    }
   ],
   "execution_count": 4
  },
  {
   "metadata": {},
   "cell_type": "markdown",
   "source": [
    "### Challenges:\n",
    "1. Handling foreign keys\n",
    "2. Handling data that depends on other data - in such case all data needs to be loaded in same batch and replaced afterwards together  "
   ],
   "id": "247b2a7d7b233c01"
  },
  {
   "metadata": {
    "ExecuteTime": {
     "end_time": "2025-04-29T04:41:47.683100Z",
     "start_time": "2025-04-29T04:41:44.713281Z"
    }
   },
   "cell_type": "code",
   "source": [
    "import psycopg2\n",
    "\n",
    "# Connect to PostgreSQL\n",
    "conn = psycopg2.connect(\n",
    "    host=\"127.0.0.1\",\n",
    "    database=\"moneyhouse_germany_dev\",\n",
    "    user=\"mhde\",\n",
    "    password=\"\"\n",
    ")\n",
    "cursor = conn.cursor()\n",
    "\n",
    "# Execute the update command\n",
    "update_query = \"\"\"\n",
    "    UPDATE person p\n",
    "    SET age = u.age,\n",
    "        retirement_flag = u.retirement_flag\n",
    "    FROM person_updates_temp u\n",
    "    WHERE p.id::text = u.id;\n",
    "\"\"\"\n",
    "\n",
    "cursor.execute(update_query)\n",
    "conn.commit()\n",
    "\n",
    "# Drop the temporary table\n",
    "cursor.execute(\"DROP TABLE person_updates_temp;\")\n",
    "conn.commit()\n",
    "\n",
    "# Close the connection\n",
    "cursor.close()\n",
    "conn.close()\n"
   ],
   "id": "58df5e2bf6c7ec5f",
   "outputs": [],
   "execution_count": 5
  }
 ],
 "metadata": {
  "kernelspec": {
   "display_name": "Python 3",
   "language": "python",
   "name": "python3"
  },
  "language_info": {
   "codemirror_mode": {
    "name": "ipython",
    "version": 2
   },
   "file_extension": ".py",
   "mimetype": "text/x-python",
   "name": "python",
   "nbconvert_exporter": "python",
   "pygments_lexer": "ipython2",
   "version": "2.7.6"
  }
 },
 "nbformat": 4,
 "nbformat_minor": 5
}
