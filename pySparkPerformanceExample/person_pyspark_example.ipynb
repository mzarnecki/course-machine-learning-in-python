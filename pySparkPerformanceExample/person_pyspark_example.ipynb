{
 "cells": [
  {
   "metadata": {},
   "cell_type": "markdown",
   "source": [
    "# PySpark performance data manipulation example\n",
    "\n",
    "This notebook presents how using of py spark parallel reads and in-memory computation can speed up data manipulation process."
   ],
   "id": "d8973b013f321a5a"
  },
  {
   "metadata": {},
   "cell_type": "markdown",
   "source": [
    "### Used optimizations\n",
    "\n",
    "1. Parallel Reading: The numPartitions parameter ensures that data is read in parallel, leveraging the cluster's parallel processing capabilities.\n",
    "\n",
    "2. Transformations: Added an upper transformation and a conditional flag column (recent_entry_flag) to demonstrate data manipulation. All computation is done in memory.\n",
    "\n",
    "3. Batch Writing: The batchsize option ensures efficient data writing to PostgreSQL by writing in chunks, reducing transaction overhead.\n",
    "\n",
    "4. Optimized Configuration: Set the number of shuffle partitions and memory configuration for performance tuning."
   ],
   "id": "7c9545d77fd1f96e"
  },
  {
   "metadata": {},
   "cell_type": "markdown",
   "source": "### 1. Connect to database",
   "id": "5a9738c3c197a296"
  },
  {
   "cell_type": "code",
   "id": "initial_id",
   "metadata": {
    "collapsed": true,
    "ExecuteTime": {
     "end_time": "2024-11-02T06:37:49.220421Z",
     "start_time": "2024-11-02T06:37:48.963812Z"
    }
   },
   "source": [
    "import findspark\n",
    "findspark.init()\n",
    "\n",
    "from pyspark.sql import SparkSession\n",
    "from pyspark.sql.functions import col, upper, when, year, lit\n",
    "\n",
    "# Initialize the Spark session\n",
    "spark = SparkSession.builder \\\n",
    "    .appName(\"PostgreSQL Connection with PySpark\") \\\n",
    "    .config(\"spark.jars\", \"postgresql-42.7.4.jar\") \\\n",
    "    .config(\"spark.sql.shuffle.partitions\", \"8\") \\\n",
    "    .config(\"spark.executor.memory\", \"2g\") \\\n",
    "    .getOrCreate()\n",
    "\n",
    "# JDBC properties\n",
    "url = \"jdbc:postgresql://127.0.0.1:5432/moneyhouse_germany_dev\"\n",
    "properties = {\n",
    "    \"user\": \"mhde\",\n",
    "    \"password\": \"\",\n",
    "    \"driver\": \"org.postgresql.Driver\"\n",
    "}\n",
    "\n",
    "table_name = \"person\"\n",
    "\n",
    "# Read the table with partitioning for parallel reads\n",
    "num_partitions = 4  # Adjust based on the cluster resources\n",
    "df = spark.read.jdbc(\n",
    "    url=url,\n",
    "    table=table_name,\n",
    "    properties=properties,\n",
    "    numPartitions=num_partitions\n",
    ")\n",
    "df.show(5)"
   ],
   "outputs": [
    {
     "name": "stdout",
     "output_type": "stream",
     "text": [
      "+--------------------+---------+-----------+----------------+------+----------+--------+----------+-------------------+-------------------+-------+------+--------------+-------+-------------+--------------+-------------+--------------------+----------------------+-------------+------------------+-----+-----+---+-------+-----------------------------+---------------------+---------------+----------------------+-----------+--------------------+------------------+--------------+---------------------------+---------------------------+---------+----------+------------------+----+---------------+\n",
      "|                  id|lock_flag|family_name|scientific_title|gender|birth_date|deceased|occupation|         created_at|         updated_at|   city|status|   hitpage_uri|   name|   first_name|disabled_tiles|deceased_date|         profile_uri|creditsafe_safe_number|creditsafe_id|former_occupations|email|phone|fax|website|network_graph_data_created_at|normalized_first_name|normalized_name|normalized_family_name|     source| distinct_connection|research_merged_at|unique_content|unique_content_generated_at|unique_content_tree_version|seo_score|crawled_at|hitpage_crawled_at| age|retirement_flag|\n",
      "+--------------------+---------+-----------+----------------+------+----------+--------+----------+-------------------+-------------------+-------+------+--------------+-------+-------------+--------------+-------------+--------------------+----------------------+-------------+------------------+-----+-----+---+-------+-----------------------------+---------------------+---------------+----------------------+-----------+--------------------+------------------+--------------+---------------------------+---------------------------+---------+----------+------------------+----+---------------+\n",
      "|91886f5e-b7ad-491...|        0|       NULL|            NULL|     M|      NULL|    NULL|      NULL|2021-02-04 12:14:53|2024-01-19 04:26:24|       | false|  Axel-Steffen|Steffen|         Axel|          NULL|         NULL|Axel-Steffen-o_tU...|                  NULL|         NULL|              NULL|   []|   []| []|     []|                         NULL|                 Axel|        Steffen|                  NULL|publication|                NULL|              NULL|            {}|        0001-01-01 00:00:00|                          0|        0|      NULL|              NULL|NULL|           NULL|\n",
      "|fca15e75-295f-44b...|        7|       NULL|            NULL|     M|      NULL|    NULL|      NULL|2021-02-04 12:38:58|2024-01-19 04:26:24|Hamburg|  true|     Udo-Wiese|  Wiese|          Udo|          NULL|         NULL|Udo-Wiese-zsJlaHP...|                  NULL|         NULL|              NULL|   []|   []| []|     []|                         NULL|                  Udo|          Wiese|                  NULL|publication|                NULL|              NULL|            {}|        0001-01-01 00:00:00|                          0|      100|      NULL|              NULL|NULL|           NULL|\n",
      "|c09217b0-d948-11e...|        0|       NULL|            NULL|     M|      NULL|    NULL|      NULL|               NULL|2024-01-19 04:26:24|München| false|Herbert-Kuliga| Kuliga|      Herbert|          NULL|         NULL|Herbert-Kuliga-8v...|                  NULL|         NULL|              NULL|   {}|   {}| {}|     {}|                         NULL|              Herbert|         Kuliga|                  NULL|       NULL|c09217b0-d948-11e...|              NULL|            {}|        0001-01-01 00:00:00|                          0|       30|      NULL|              NULL|NULL|           NULL|\n",
      "|b940f152-ca0a-45c...|        0|       NULL|            NULL|     M|      NULL|    NULL|      NULL|2021-02-04 12:43:09|2024-01-19 04:26:24|       |  true|     Max-Simon|  Simon|          Max|          NULL|         NULL|Max-Simon-iyPKT5C...|                  NULL|         NULL|              NULL|   []|   []| []|     []|                         NULL|                  Max|          Simon|                  NULL|publication|                NULL|              NULL|            {}|        0001-01-01 00:00:00|                          0|       90|      NULL|              NULL|NULL|           NULL|\n",
      "|5461cdb0-0e64-47c...|        0|       NULL|            NULL|     M|      NULL|    NULL|      NULL|2021-02-04 12:15:46|2024-01-19 04:26:24|       |  true| David-Butcher|Butcher|David Anthony|          NULL|         NULL|David-Anthony-But...|                  NULL|         NULL|              NULL|   []|   []| []|     []|                         NULL|        David Anthony|        Butcher|                  NULL|publication|                NULL|              NULL|            {}|        0001-01-01 00:00:00|                          0|       90|      NULL|              NULL|NULL|           NULL|\n",
      "+--------------------+---------+-----------+----------------+------+----------+--------+----------+-------------------+-------------------+-------+------+--------------+-------+-------------+--------------+-------------+--------------------+----------------------+-------------+------------------+-----+-----+---+-------+-----------------------------+---------------------+---------------+----------------------+-----------+--------------------+------------------+--------------+---------------------------+---------------------------+---------+----------+------------------+----+---------------+\n",
      "only showing top 5 rows\n",
      "\n"
     ]
    }
   ],
   "execution_count": 76
  },
  {
   "metadata": {},
   "cell_type": "markdown",
   "source": "### 2. Do some data manipulation",
   "id": "fc7b076d53f42d57"
  },
  {
   "metadata": {
    "ExecuteTime": {
     "end_time": "2024-11-02T06:37:49.392216Z",
     "start_time": "2024-11-02T06:37:49.246293Z"
    }
   },
   "cell_type": "code",
   "source": [
    "# Filter and transform the data - real-life example: identifying potential retirees\n",
    "filtered_df = df.filter((col(\"birth_date\").isNotNull()) & (col(\"deceased\").isNull()))\n",
    "transformed_df = filtered_df.withColumn(\n",
    "    \"age\",\n",
    "    (lit(2024) - year(col(\"birth_date\")))  # Replace 2024 with current year dynamically in production\n",
    ")\n",
    "transformed_df.show(5)"
   ],
   "id": "1d59ca009050fb5",
   "outputs": [
    {
     "name": "stdout",
     "output_type": "stream",
     "text": [
      "+--------------------+---------+-----------+----------------+------+----------+--------+----------+-------------------+-------------------+-----------+------+-------------+-------+----------+--------------+-------------+--------------------+----------------------+-------------+------------------+-----+-----+---+-------+-----------------------------+---------------------+---------------+----------------------+-----------+--------------------+-------------------+--------------+---------------------------+---------------------------+---------+----------+------------------+---+---------------+\n",
      "|                  id|lock_flag|family_name|scientific_title|gender|birth_date|deceased|occupation|         created_at|         updated_at|       city|status|  hitpage_uri|   name|first_name|disabled_tiles|deceased_date|         profile_uri|creditsafe_safe_number|creditsafe_id|former_occupations|email|phone|fax|website|network_graph_data_created_at|normalized_first_name|normalized_name|normalized_family_name|     source| distinct_connection| research_merged_at|unique_content|unique_content_generated_at|unique_content_tree_version|seo_score|crawled_at|hitpage_crawled_at|age|retirement_flag|\n",
      "+--------------------+---------+-----------+----------------+------+----------+--------+----------+-------------------+-------------------+-----------+------+-------------+-------+----------+--------------+-------------+--------------------+----------------------+-------------+------------------+-----+-----+---+-------+-----------------------------+---------------------+---------------+----------------------+-----------+--------------------+-------------------+--------------+---------------------------+---------------------------+---------+----------+------------------+---+---------------+\n",
      "|a67515b0-d936-11e...|        0|       NULL|            NULL|     M|1961-05-12|    NULL|      NULL|               NULL|2024-01-19 04:26:41|    Neuried| false|   Udo-Laufer| Laufer|       Udo|          NULL|         NULL|Udo-Laufer-lBYurY...|                  NULL|         NULL|              NULL|   {}|   {}| {}|     {}|                         NULL|                  Udo|         Laufer|                  NULL|       NULL|a67515b0-d936-11e...|               NULL|            {}|        0001-01-01 00:00:00|                          0|       20|      NULL|              NULL| 63|          false|\n",
      "|515af2d0-316d-11e...|        0|       NULL|            NULL|     M|1969-09-28|    NULL|      NULL|2016-07-25 11:48:07|2024-01-19 04:27:04|           |  true|    Martin-Re|     Re| Martin Da|          NULL|         NULL|Martin-Da-Re-YznJ...|                  NULL|         NULL|              NULL|   {}|   {}| {}|     {}|                         NULL|            Martin Da|             Re|                  NULL|       NULL|515af2d0-316d-11e...|               NULL|            {}|        0001-01-01 00:00:00|                          0|      110|      NULL|              NULL| 55|          false|\n",
      "|371e7abc-d91c-443...|        0|       NULL|            NULL|     M|1955-12-24|    NULL|      NULL|2021-02-04 12:16:45|2024-01-19 04:27:22|    Hamburg| false| Clemens-Reus|   Reus|   Clemens|          NULL|         NULL|Clemens-Reus-BX1B...|                  NULL|         NULL|              NULL|   []|   []| []|     []|                         NULL|              Clemens|           Reus|                  NULL|publication|                NULL|               NULL|            {}|        0001-01-01 00:00:00|                          0|       20|      NULL|              NULL| 69|           true|\n",
      "|03349a23-d944-11e...|        0|       NULL|            NULL|     M|1964-04-05|    NULL|      NULL|               NULL|2024-01-19 04:27:22| Oberkotzau| false| Peter-Eckert| Eckert|     Peter|          NULL|         NULL|Peter-Eckert-MVeh...|                  NULL|         NULL|              NULL|   {}|   {}| {}|     {}|                         NULL|                Peter|         Eckert|                  NULL|       NULL|03349a23-d944-11e...|               NULL|            {}|        0001-01-01 00:00:00|                          0|       20|      NULL|              NULL| 60|          false|\n",
      "|f42c4de3-d99b-11e...|        0|       NULL|            NULL|     F|1933-06-12|    NULL|      NULL|2024-01-25 17:36:02|2024-01-25 17:36:02|Sattelmühle| false|Erika-Schmidt|Schmidt|     Erika|          NULL|         NULL|Erika-Schmidt-xk9...|                  NULL|         NULL|              NULL|   []|   []| []|     []|          2023-12-27 06:51:42|                Erika|        Schmidt|                  NULL|       NULL|                NULL|2023-11-02 17:37:30|            []|        0001-01-01 00:00:00|                          0|       20|      NULL|              NULL| 91|           true|\n",
      "+--------------------+---------+-----------+----------------+------+----------+--------+----------+-------------------+-------------------+-----------+------+-------------+-------+----------+--------------+-------------+--------------------+----------------------+-------------+------------------+-----+-----+---+-------+-----------------------------+---------------------+---------------+----------------------+-----------+--------------------+-------------------+--------------+---------------------------+---------------------------+---------+----------+------------------+---+---------------+\n",
      "only showing top 5 rows\n",
      "\n"
     ]
    }
   ],
   "execution_count": 77
  },
  {
   "metadata": {
    "ExecuteTime": {
     "end_time": "2024-11-02T06:37:49.691675Z",
     "start_time": "2024-11-02T06:37:49.427460Z"
    }
   },
   "cell_type": "code",
   "source": [
    "transformed_df = transformed_df.withColumn(\n",
    "    \"retirement_flag\",\n",
    "    when(col(\"age\") >= 65, True).otherwise(False)\n",
    ")\n",
    "\n",
    "# Show some details and transformations\n",
    "print(\"Data description:\")\n",
    "transformed_df.show()\n",
    "\n",
    "# Show first few rows\n",
    "transformed_df.select(\"id\", \"first_name\", \"family_name\", \"age\", \"retirement_flag\").show(5)"
   ],
   "id": "2c7683877c4ef693",
   "outputs": [
    {
     "name": "stdout",
     "output_type": "stream",
     "text": [
      "Data description:\n",
      "+--------------------+---------+-----------+----------------+------+----------+--------+----------+-------------------+-------------------+-----------------+------+--------------+-------+----------+--------------+-------------+--------------------+----------------------+-------------+------------------+-----+-----+---+-------+-----------------------------+---------------------+---------------+----------------------+------------------+--------------------+-------------------+--------------+---------------------------+---------------------------+---------+----------+------------------+---+---------------+\n",
      "|                  id|lock_flag|family_name|scientific_title|gender|birth_date|deceased|occupation|         created_at|         updated_at|             city|status|   hitpage_uri|   name|first_name|disabled_tiles|deceased_date|         profile_uri|creditsafe_safe_number|creditsafe_id|former_occupations|email|phone|fax|website|network_graph_data_created_at|normalized_first_name|normalized_name|normalized_family_name|            source| distinct_connection| research_merged_at|unique_content|unique_content_generated_at|unique_content_tree_version|seo_score|crawled_at|hitpage_crawled_at|age|retirement_flag|\n",
      "+--------------------+---------+-----------+----------------+------+----------+--------+----------+-------------------+-------------------+-----------------+------+--------------+-------+----------+--------------+-------------+--------------------+----------------------+-------------+------------------+-----+-----+---+-------+-----------------------------+---------------------+---------------+----------------------+------------------+--------------------+-------------------+--------------+---------------------------+---------------------------+---------+----------+------------------+---+---------------+\n",
      "|a67515b0-d936-11e...|        0|       NULL|            NULL|     M|1961-05-12|    NULL|      NULL|               NULL|2024-01-19 04:26:41|          Neuried| false|    Udo-Laufer| Laufer|       Udo|          NULL|         NULL|Udo-Laufer-lBYurY...|                  NULL|         NULL|              NULL|   {}|   {}| {}|     {}|                         NULL|                  Udo|         Laufer|                  NULL|              NULL|a67515b0-d936-11e...|               NULL|            {}|        0001-01-01 00:00:00|                          0|       20|      NULL|              NULL| 63|          false|\n",
      "|515af2d0-316d-11e...|        0|       NULL|            NULL|     M|1969-09-28|    NULL|      NULL|2016-07-25 11:48:07|2024-01-19 04:27:04|                 |  true|     Martin-Re|     Re| Martin Da|          NULL|         NULL|Martin-Da-Re-YznJ...|                  NULL|         NULL|              NULL|   {}|   {}| {}|     {}|                         NULL|            Martin Da|             Re|                  NULL|              NULL|515af2d0-316d-11e...|               NULL|            {}|        0001-01-01 00:00:00|                          0|      110|      NULL|              NULL| 55|          false|\n",
      "|371e7abc-d91c-443...|        0|       NULL|            NULL|     M|1955-12-24|    NULL|      NULL|2021-02-04 12:16:45|2024-01-19 04:27:22|          Hamburg| false|  Clemens-Reus|   Reus|   Clemens|          NULL|         NULL|Clemens-Reus-BX1B...|                  NULL|         NULL|              NULL|   []|   []| []|     []|                         NULL|              Clemens|           Reus|                  NULL|       publication|                NULL|               NULL|            {}|        0001-01-01 00:00:00|                          0|       20|      NULL|              NULL| 69|           true|\n",
      "|03349a23-d944-11e...|        0|       NULL|            NULL|     M|1964-04-05|    NULL|      NULL|               NULL|2024-01-19 04:27:22|       Oberkotzau| false|  Peter-Eckert| Eckert|     Peter|          NULL|         NULL|Peter-Eckert-MVeh...|                  NULL|         NULL|              NULL|   {}|   {}| {}|     {}|                         NULL|                Peter|         Eckert|                  NULL|              NULL|03349a23-d944-11e...|               NULL|            {}|        0001-01-01 00:00:00|                          0|       20|      NULL|              NULL| 60|          false|\n",
      "|f42c4de3-d99b-11e...|        0|       NULL|            NULL|     F|1933-06-12|    NULL|      NULL|2024-01-25 17:36:02|2024-01-25 17:36:02|      Sattelmühle| false| Erika-Schmidt|Schmidt|     Erika|          NULL|         NULL|Erika-Schmidt-xk9...|                  NULL|         NULL|              NULL|   []|   []| []|     []|          2023-12-27 06:51:42|                Erika|        Schmidt|                  NULL|              NULL|                NULL|2023-11-02 17:37:30|            []|        0001-01-01 00:00:00|                          0|       20|      NULL|              NULL| 91|           true|\n",
      "|967dac63-6ff7-4d0...|        0|       NULL|            NULL|     M|1999-11-15|    NULL|      NULL|2024-01-25 17:38:09|2024-01-25 17:38:09|         Lüneburg|  true|    Jannik-Noe|    Noe|    Jannik|          NULL|         NULL|Jannik-Noe-pB6Xfj...|                  NULL|         NULL|              NULL|   []|   []| []|     []|          2023-12-25 12:33:24|               Jannik|            Noe|                  NULL|       publication|                NULL|2023-09-30 13:15:23|            []|        0001-01-01 00:00:00|                          0|      120|      NULL|              NULL| 25|          false|\n",
      "|af966b70-3926-11e...|        0|       NULL|            NULL|     M|1976-07-28|    NULL|      NULL|2024-01-25 17:45:16|2024-01-25 17:45:16|             Sanz|  true|    Andre-Denz|   Denz|     Andre|          NULL|         NULL|Andre-Denz-nfVQbW...|                  NULL|         NULL|              NULL|   []|   []| []|     []|          2023-12-22 07:27:33|                Andre|           Denz|                  NULL|          Kantwert|                NULL|2023-10-28 20:06:41|            []|        0001-01-01 00:00:00|                          0|       80|      NULL|              NULL| 48|          false|\n",
      "|f10f1052-d943-11e...|        0|       NULL|            NULL|     M|1937-06-02|    NULL|      NULL|2024-01-25 18:13:52|2024-01-25 18:13:52|         Nidderau| false|  Albert-Becht|  Becht|    Albert|          NULL|         NULL|Albert-Becht-w2wr...|                  NULL|         NULL|              NULL|   []|   []| []|     []|          2023-12-27 05:35:55|               Albert|          Becht|                  NULL|              NULL|                NULL|2023-11-19 06:00:18|            []|        0001-01-01 00:00:00|                          0|       20|      NULL|              NULL| 87|           true|\n",
      "|4108e1c6-d936-11e...|        0|       NULL|            NULL|     M|1949-05-05|    NULL|      NULL|2024-01-25 17:49:10|2024-01-25 17:49:10|           Kerpen|  true|Martin-Graefen| Gräfen|    Martin|          NULL|         NULL|Martin-Graefen-c2...|                  NULL|         NULL|              NULL|   []|   []| []|     []|          2024-01-08 04:54:11|               Martin|         Gräfen|                  NULL|person_publication|                NULL|2023-11-17 07:38:28|            []|        0001-01-01 00:00:00|                          0|      120|      NULL|              NULL| 75|           true|\n",
      "|cbf62000-d930-11e...|        0|       NULL|            NULL|     M|1966-05-14|    NULL|      NULL|2024-01-25 18:20:21|2024-01-25 18:20:21|          Hörstel|  true|  Alfred-Gayer|  Gayer|    Alfred|          NULL|         NULL|Alfred-Gayer-_ZUb...|                  NULL|         NULL|              NULL|   []|   []| []|     []|          2023-12-22 11:44:11|               Alfred|          Gayer|                  NULL|person_publication|                NULL|2023-11-15 07:24:51|            []|        0001-01-01 00:00:00|                          0|      100|      NULL|              NULL| 58|          false|\n",
      "|ed276ad0-f3f5-11e...|        4|       NULL|            NULL|     M|1963-07-22|    NULL|      NULL|2024-01-25 17:57:04|2024-01-25 17:57:04|       Stahnsdorf| false|  Andreas-Horn|   Horn|   Andreas|          NULL|         NULL|Andreas-Horn-30RR...|                  NULL|         NULL|              NULL|   []|   []| []|     []|          2023-12-28 22:08:44|              Andreas|           Horn|                  NULL|              NULL|                NULL|2023-11-11 10:26:48|            []|        0001-01-01 00:00:00|                          0|      120|      NULL|              NULL| 61|          false|\n",
      "|c0139940-d992-11e...|        0|       NULL|            NULL|     F|1952-10-10|    NULL|      NULL|2024-01-25 18:27:27|2024-01-25 18:27:27|         Saalfeld| false|  Regina-Domin|  Domin|    Regina|          NULL|         NULL|Regina-Domin-8nCi...|                  NULL|         NULL|              NULL|   []|   []| []|     []|          2023-12-22 08:22:25|               Regina|          Domin|                  NULL|person_publication|                NULL|2023-10-30 08:20:20|            []|        0001-01-01 00:00:00|                          0|       10|      NULL|              NULL| 72|           true|\n",
      "|5388c5f1-d949-11e...|        0|       NULL|            NULL|     M|1974-02-27|    NULL|      NULL|2024-01-25 18:35:12|2024-01-25 18:35:12|Buxtehude Hamburg|  true|   Karl-Kreitz| Kreitz|      Karl|          NULL|         NULL|Karl-Kreitz-Yev_7...|                  NULL|         NULL|              NULL|   []|   []| []|     []|          2023-12-31 19:08:30|                 Karl|         Kreitz|                  NULL|person_publication|                NULL|2023-11-21 20:35:00|            []|        0001-01-01 00:00:00|                          0|      120|      NULL|              NULL| 50|          false|\n",
      "|d3f20a90-d97a-11e...|        0|       NULL|            NULL|     M|1967-10-20|    NULL|      NULL|2024-01-25 18:32:16|2024-01-25 18:32:16|             Haan| false|    Nihat-Aker|   Aker|     Nihat|          NULL|         NULL|Nihat-Aker-4ZExjY...|                  NULL|         NULL|              NULL|   []|   []| []|     []|          2023-12-23 18:02:29|                Nihat|           Aker|                  NULL|person_publication|                NULL|2023-02-25 13:14:34|            []|        0001-01-01 00:00:00|                          0|       40|      NULL|              NULL| 57|          false|\n",
      "|1b399600-3840-11e...|        1|       NULL|            NULL|     F|1957-04-29|    NULL|      NULL|2024-01-25 18:35:38|2024-01-25 18:35:38|   Bad Wünnenberg| false|   Ingrid-Loer|   Loer|    Ingrid|          NULL|         NULL|Ingrid-Loer-KVqtH...|                  NULL|         NULL|              NULL|   []|   []| []|     []|          2023-12-30 05:50:59|               Ingrid|           Loer|                  NULL|          Kantwert|                NULL|2023-09-07 02:59:54|            []|        0001-01-01 00:00:00|                          0|       70|      NULL|              NULL| 67|           true|\n",
      "|bfa48020-000b-11e...|        0|       NULL|            NULL|     F|1951-04-21|    NULL|      NULL|2024-01-25 18:54:47|2024-01-25 18:54:47|            Hinte|  true|   Erna-Bunger| Bunger|      Erna|          NULL|         NULL|Erna-Bunger-jce7P...|                  NULL|         NULL|              NULL|   []|   []| []|     []|          2023-12-24 12:34:33|                 Erna|         Bunger|                  NULL|          Kantwert|                NULL|2023-11-13 07:31:59|            []|        0001-01-01 00:00:00|                          0|      110|      NULL|              NULL| 73|           true|\n",
      "|f66022a0-d93f-11e...|        0|       NULL|            NULL|     M|1968-12-10|    NULL|      NULL|2024-01-25 18:56:44|2024-01-25 18:56:44|           Kerpen| false|     Oemer-Koc|    Koc|      Ömer|          NULL|         NULL|Oemer-Koc-xAMZvYO...|                  NULL|         NULL|              NULL|   []|   []| []|     []|          2023-12-29 17:18:31|                 Ömer|            Koc|                  NULL|              NULL|                NULL|2023-10-05 21:41:16|            []|        0001-01-01 00:00:00|                          0|       30|      NULL|              NULL| 56|          false|\n",
      "|f313c760-00ae-11e...|        0|       NULL|            NULL|  NULL|1983-10-18|    NULL|      NULL|2024-01-25 19:04:42|2024-01-25 19:04:42|         Hannover|  true|     Xiaolu-Li|     Li|    Xiaolu|          NULL|         NULL|Xiaolu-Li-wXD8fVo...|                  NULL|         NULL|              NULL|   []|   []| []|     []|          2023-12-30 16:57:50|               Xiaolu|             Li|                  NULL|              NULL|                NULL|2023-10-22 15:20:49|            []|        0001-01-01 00:00:00|                          0|      120|      NULL|              NULL| 41|          false|\n",
      "|6efe76d0-37fe-11e...|        0|       NULL|            NULL|     M|1937-12-27|    NULL|      NULL|2024-01-25 19:03:38|2024-01-25 19:03:38|         Lunzenau|  true|Joachim-Spreer| Spreer|   Joachim|          NULL|         NULL|Joachim-Spreer-XJ...|                  NULL|         NULL|              NULL|   []|   []| []|     []|          2024-01-17 16:04:19|              Joachim|         Spreer|                  NULL|          Kantwert|                NULL|2023-12-01 09:11:38|            []|        0001-01-01 00:00:00|                          0|       80|      NULL|              NULL| 87|           true|\n",
      "|387006a0-384a-11e...|        0|       NULL|            NULL|     M|1969-10-15|    NULL|      NULL|2024-01-25 19:17:35|2024-01-25 19:17:35|            Celle|  true|  Stefan-Kinde|  Kinde|    Stefan|          NULL|         NULL|Stefan-Kinde-ChM9...|                  NULL|         NULL|              NULL|   []|   []| []|     []|          2024-01-06 08:04:05|               Stefan|          Kinde|                  NULL|          Kantwert|                NULL|2023-11-21 12:27:54|            []|        0001-01-01 00:00:00|                          0|       90|      NULL|              NULL| 55|          false|\n",
      "+--------------------+---------+-----------+----------------+------+----------+--------+----------+-------------------+-------------------+-----------------+------+--------------+-------+----------+--------------+-------------+--------------------+----------------------+-------------+------------------+-----+-----+---+-------+-----------------------------+---------------------+---------------+----------------------+------------------+--------------------+-------------------+--------------+---------------------------+---------------------------+---------+----------+------------------+---+---------------+\n",
      "only showing top 20 rows\n",
      "\n",
      "+--------------------+----------+-----------+---+---------------+\n",
      "|                  id|first_name|family_name|age|retirement_flag|\n",
      "+--------------------+----------+-----------+---+---------------+\n",
      "|a67515b0-d936-11e...|       Udo|       NULL| 63|          false|\n",
      "|515af2d0-316d-11e...| Martin Da|       NULL| 55|          false|\n",
      "|371e7abc-d91c-443...|   Clemens|       NULL| 69|           true|\n",
      "|03349a23-d944-11e...|     Peter|       NULL| 60|          false|\n",
      "|f42c4de3-d99b-11e...|     Erika|       NULL| 91|           true|\n",
      "+--------------------+----------+-----------+---+---------------+\n",
      "only showing top 5 rows\n",
      "\n"
     ]
    }
   ],
   "execution_count": 78
  },
  {
   "metadata": {},
   "cell_type": "markdown",
   "source": "### 3. Save data using batch inserts",
   "id": "f2b27192a167f7c8"
  },
  {
   "metadata": {
    "ExecuteTime": {
     "end_time": "2024-11-02T06:37:51.040113Z",
     "start_time": "2024-11-02T06:37:49.736876Z"
    }
   },
   "cell_type": "code",
   "source": [
    "# Identify modified records based on a condition (e.g., age or retirement_flag changes)\n",
    "existing_df = df.select(\"id\")\n",
    "updates_df = transformed_df.join(existing_df, on=\"id\", how=\"inner\")\n",
    "\n",
    "# Write modified records to a temporary table\n",
    "(transformed_df.write.mode(\"append\")\n",
    " .option(\"batchsize\", 1000)  # Use batch size for efficient writing\n",
    " .format(\"jdbc\")\n",
    " .option(\"driver\", \"org.postgresql.Driver\")\n",
    " .option(\"url\", url)\n",
    " .option(\"dbtable\", \"person_updates_temp\")  # Write to a temporary table\n",
    " .option(\"user\", \"mhde\")\n",
    " .save())\n",
    "\n",
    "# Stop the Spark session\n",
    "spark.stop()"
   ],
   "id": "db0ff140a5f6f492",
   "outputs": [
    {
     "name": "stderr",
     "output_type": "stream",
     "text": [
      "                                                                                \r"
     ]
    }
   ],
   "execution_count": 79
  },
  {
   "metadata": {},
   "cell_type": "markdown",
   "source": [
    "### Challenges:\n",
    "1. Handling foreign keys\n",
    "2. Handling data that depends on other data - in such case all data needs to be loaded in same batch and replaced afterwards together  "
   ],
   "id": "247b2a7d7b233c01"
  },
  {
   "metadata": {
    "ExecuteTime": {
     "end_time": "2024-11-02T06:37:53.870847Z",
     "start_time": "2024-11-02T06:37:51.048742Z"
    }
   },
   "cell_type": "code",
   "source": [
    "import psycopg2\n",
    "\n",
    "# Connect to PostgreSQL\n",
    "conn = psycopg2.connect(\n",
    "    host=\"127.0.0.1\",\n",
    "    database=\"moneyhouse_germany_dev\",\n",
    "    user=\"mhde\",\n",
    "    password=\"\"\n",
    ")\n",
    "cursor = conn.cursor()\n",
    "\n",
    "# Execute the update command\n",
    "update_query = \"\"\"\n",
    "    UPDATE person p\n",
    "    SET age = u.age,\n",
    "        retirement_flag = u.retirement_flag\n",
    "    FROM person_updates_temp u\n",
    "    WHERE p.id::text = u.id;\n",
    "\"\"\"\n",
    "\n",
    "cursor.execute(update_query)\n",
    "conn.commit()\n",
    "\n",
    "# Drop the temporary table\n",
    "cursor.execute(\"DROP TABLE person_updates_temp;\")\n",
    "conn.commit()\n",
    "\n",
    "# Close the connection\n",
    "cursor.close()\n",
    "conn.close()\n"
   ],
   "id": "58df5e2bf6c7ec5f",
   "outputs": [],
   "execution_count": 80
  }
 ],
 "metadata": {
  "kernelspec": {
   "display_name": "Python 3",
   "language": "python",
   "name": "python3"
  },
  "language_info": {
   "codemirror_mode": {
    "name": "ipython",
    "version": 2
   },
   "file_extension": ".py",
   "mimetype": "text/x-python",
   "name": "python",
   "nbconvert_exporter": "python",
   "pygments_lexer": "ipython2",
   "version": "2.7.6"
  }
 },
 "nbformat": 4,
 "nbformat_minor": 5
}
